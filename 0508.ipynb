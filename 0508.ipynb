{
  "nbformat": 4,
  "nbformat_minor": 0,
  "metadata": {
    "colab": {
      "provenance": [],
      "authorship_tag": "ABX9TyPofUg81YbsnaRXsttn0mFK",
      "include_colab_link": true
    },
    "kernelspec": {
      "name": "python3",
      "display_name": "Python 3"
    },
    "language_info": {
      "name": "python"
    }
  },
  "cells": [
    {
      "cell_type": "markdown",
      "metadata": {
        "id": "view-in-github",
        "colab_type": "text"
      },
      "source": [
        "<a href=\"https://colab.research.google.com/github/412537259/Introduction-to-Computers_112/blob/main/0508.ipynb\" target=\"_parent\"><img src=\"https://colab.research.google.com/assets/colab-badge.svg\" alt=\"Open In Colab\"/></a>"
      ]
    },
    {
      "cell_type": "code",
      "execution_count": 3,
      "metadata": {
        "colab": {
          "base_uri": "https://localhost:8080/"
        },
        "id": "pFb7xX1Iq6Oy",
        "outputId": "06f227f0-fb8e-4f3f-e5f2-6ca195f93f32"
      },
      "outputs": [
        {
          "output_type": "stream",
          "name": "stdout",
          "text": [
            "請輸入您的體溫: 36.9\n",
            "體溫正常\n"
          ]
        }
      ],
      "source": [
        "溫度 = float(input(\"請輸入您的體溫: \"))\n",
        "\n",
        "if 溫度 >= 37.5:\n",
        "    print(\"體溫過高\")\n",
        "elif 37.4 >= 溫度 >= 37:\n",
        "    print(\"體溫略高\")\n",
        "elif 34 <= 溫度 <= 36.9:\n",
        "    print(\"體溫正常\")\n",
        "else:\n",
        "    print(\"請輸入有效的體溫數值\")"
      ]
    },
    {
      "cell_type": "code",
      "source": [
        "s = float(input(\"請輸入您的成績: \"))\n",
        "\n",
        "if s >= 90:\n",
        "    print(\"A\")\n",
        "elif 80 <= s <= 89:\n",
        "    print(\"B\")\n",
        "elif 70 <= s <= 79:\n",
        "    print(\"C\")\n",
        "elif 60 <= s <= 69:\n",
        "    print(\"D\")\n",
        "else:\n",
        "    print(\"E\")\n"
      ],
      "metadata": {
        "colab": {
          "base_uri": "https://localhost:8080/"
        },
        "id": "WzZb3BNnsZ-a",
        "outputId": "4cfcfcc4-0cf4-4828-8f65-3791fcd3934e"
      },
      "execution_count": 4,
      "outputs": [
        {
          "output_type": "stream",
          "name": "stdout",
          "text": [
            "請輸入您的成績: 90\n",
            "A\n"
          ]
        }
      ]
    },
    {
      "cell_type": "code",
      "source": [
        "m = int(input(\"請輸入月份（請輸入1-12的數字）: \"))\n",
        "\n",
        "if 3 <= m <= 5:\n",
        "    print(f\"{m}月是春天！\")\n",
        "elif 6 <= m <= 8:\n",
        "    print(f\"{m}月是夏天！\")\n",
        "elif 9 <= m <= 11:\n",
        "    print(f\"{m}月是秋天！\")\n",
        "elif m == 12 or m == 1 or m == 2:\n",
        "    print(f\"{m}月是冬天！\")\n",
        "else:\n",
        "    print(\"月份不在範圍內！\")"
      ],
      "metadata": {
        "colab": {
          "base_uri": "https://localhost:8080/"
        },
        "id": "DVc9cAQ8tR0h",
        "outputId": "31653287-6b5d-4cbe-89b6-fcb379fbc61c"
      },
      "execution_count": 6,
      "outputs": [
        {
          "output_type": "stream",
          "name": "stdout",
          "text": [
            "請輸入月份（請輸入1-12的數字）: 4\n",
            "4月是春天！\n"
          ]
        }
      ]
    },
    {
      "cell_type": "code",
      "source": [],
      "metadata": {
        "id": "7losMgrougw2"
      },
      "execution_count": null,
      "outputs": []
    }
  ]
}