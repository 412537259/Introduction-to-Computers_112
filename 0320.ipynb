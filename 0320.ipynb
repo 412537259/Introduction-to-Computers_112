{
  "nbformat": 4,
  "nbformat_minor": 0,
  "metadata": {
    "colab": {
      "provenance": [],
      "authorship_tag": "ABX9TyNXToE7AUYfOZfYC5zoSf2O",
      "include_colab_link": true
    },
    "kernelspec": {
      "name": "python3",
      "display_name": "Python 3"
    },
    "language_info": {
      "name": "python"
    }
  },
  "cells": [
    {
      "cell_type": "markdown",
      "metadata": {
        "id": "view-in-github",
        "colab_type": "text"
      },
      "source": [
        "<a href=\"https://colab.research.google.com/github/412537259/Introduction-to-Computers_112/blob/main/0320.ipynb\" target=\"_parent\"><img src=\"https://colab.research.google.com/assets/colab-badge.svg\" alt=\"Open In Colab\"/></a>"
      ]
    },
    {
      "cell_type": "code",
      "execution_count": 15,
      "metadata": {
        "colab": {
          "base_uri": "https://localhost:8080/"
        },
        "id": "jVcIbj8_0nZS",
        "outputId": "d8d870ee-ea93-4015-a33e-6528f63baefa"
      },
      "outputs": [
        {
          "name": "stdout",
          "output_type": "stream",
          "text": [
            "請輸入梯形上底高度3\n",
            "請輸入梯形下底高度:4\n",
            "請輸入梯形的高度:3\n"
          ]
        }
      ],
      "source": [
        "上底 = int(input('請輸入梯形上底高度'))\n",
        "下底 = int(input('請輸入梯形下底高度:'))\n",
        "高 = int(input('請輸入梯形的高度:'))\n",
        "面積 = ( 上底 + 下底 ) * 高 / 2"
      ]
    },
    {
      "cell_type": "code",
      "source": [
        "國文 = int(input(\"請輸入國文成績：\"))\n",
        "英文 = int(input(\"請輸入英文成績：\"))\n",
        "數學 = int(input(\"請輸入數學成績：\"))\n",
        "總分 = 國文 + 英文 + 數學\n",
        "print(\"你的成績總分為：\", 總分)"
      ],
      "metadata": {
        "colab": {
          "base_uri": "https://localhost:8080/"
        },
        "id": "IFOUix_-1aPt",
        "outputId": "2ec3dbfe-8500-409c-919e-06c04668c1c3"
      },
      "execution_count": 16,
      "outputs": [
        {
          "output_type": "stream",
          "name": "stdout",
          "text": [
            "請輸入國文成績：50\n",
            "請輸入英文成績：60\n",
            "請輸入數學成績：70\n",
            "你的成績總分為： 180\n"
          ]
        }
      ]
    },
    {
      "cell_type": "code",
      "source": [],
      "metadata": {
        "id": "aL-FB1k02-iQ"
      },
      "execution_count": null,
      "outputs": []
    }
  ]
}