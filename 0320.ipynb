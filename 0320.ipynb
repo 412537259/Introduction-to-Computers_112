{
  "nbformat": 4,
  "nbformat_minor": 0,
  "metadata": {
    "colab": {
      "provenance": [],
      "authorship_tag": "ABX9TyOYqAQKKGFRU4b/bqV5mW+x",
      "include_colab_link": true
    },
    "kernelspec": {
      "name": "python3",
      "display_name": "Python 3"
    },
    "language_info": {
      "name": "python"
    }
  },
  "cells": [
    {
      "cell_type": "markdown",
      "metadata": {
        "id": "view-in-github",
        "colab_type": "text"
      },
      "source": [
        "<a href=\"https://colab.research.google.com/github/412537259/Introduction-to-Computers_112/blob/main/0320.ipynb\" target=\"_parent\"><img src=\"https://colab.research.google.com/assets/colab-badge.svg\" alt=\"Open In Colab\"/></a>"
      ]
    },
    {
      "cell_type": "code",
      "execution_count": 12,
      "metadata": {
        "colab": {
          "base_uri": "https://localhost:8080/"
        },
        "id": "jVcIbj8_0nZS",
        "outputId": "5311d2ca-c7b5-4d04-9dbc-7482d53e103a"
      },
      "outputs": [
        {
          "name": "stdout",
          "output_type": "stream",
          "text": [
            "請輸入梯形上底高度3\n",
            "請輸入梯形下底高度:4\n",
            "請輸入梯形的高度:3\n"
          ]
        }
      ],
      "source": [
        "上底 = int(input('請輸入梯形上底高度'))\n",
        "下底 = int(input('請輸入梯形下底高度:'))\n",
        "高 = int(input('請輸入梯形的高度:'))\n",
        "面積 = ( 上底 + 下底 ) * 高 / 2"
      ]
    },
    {
      "cell_type": "code",
      "source": [],
      "metadata": {
        "id": "IFOUix_-1aPt"
      },
      "execution_count": null,
      "outputs": []
    }
  ]
}